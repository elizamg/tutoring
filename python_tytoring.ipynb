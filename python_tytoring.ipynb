{
  "nbformat": 4,
  "nbformat_minor": 0,
  "metadata": {
    "colab": {
      "provenance": []
    },
    "kernelspec": {
      "name": "python3",
      "display_name": "Python 3"
    },
    "language_info": {
      "name": "python"
    }
  },
  "cells": [
    {
      "cell_type": "markdown",
      "source": [],
      "metadata": {
        "id": "zPaa9BT2-vHl"
      }
    },
    {
      "cell_type": "code",
      "execution_count": null,
      "metadata": {
        "id": "jH4Xhup99thK"
      },
      "outputs": [],
      "source": [
        "# variables\n",
        "a = 3\n",
        "p = \"Paxton\"\n",
        "b = True"
      ]
    },
    {
      "cell_type": "code",
      "source": [
        "k = 12\n",
        "c = False\n",
        "f = \"Apple\""
      ],
      "metadata": {
        "id": "CHdwBeUGemwn"
      },
      "execution_count": null,
      "outputs": []
    },
    {
      "cell_type": "code",
      "source": [
        "# print statements\n",
        "print(a)\n",
        "print(p)\n",
        "print(\"hello world!\")\n",
        "print(1)"
      ],
      "metadata": {
        "colab": {
          "base_uri": "https://localhost:8080/"
        },
        "id": "PKpoesO7-WFy",
        "outputId": "1c80b211-4e12-4e4e-8331-bea1cc07bd54"
      },
      "execution_count": null,
      "outputs": [
        {
          "output_type": "stream",
          "name": "stdout",
          "text": [
            "3\n",
            "Paxton\n",
            "hello world!\n",
            "1\n"
          ]
        }
      ]
    },
    {
      "cell_type": "code",
      "source": [
        "print(k)\n",
        "print(f)\n",
        "print(2)\n"
      ],
      "metadata": {
        "colab": {
          "base_uri": "https://localhost:8080/"
        },
        "id": "V7dtvJxJem6M",
        "outputId": "e116beb6-b7e7-45a5-b894-32893fa07623"
      },
      "execution_count": null,
      "outputs": [
        {
          "output_type": "stream",
          "name": "stdout",
          "text": [
            "12\n",
            "Apple\n",
            "2\n"
          ]
        }
      ]
    },
    {
      "cell_type": "code",
      "source": [
        "if (a < 5):\n",
        "  print(\"A is less than 5\")"
      ],
      "metadata": {
        "colab": {
          "base_uri": "https://localhost:8080/"
        },
        "id": "xbrlvUYc_SaE",
        "outputId": "84ff8c3f-d16a-4a2b-ca0c-a87c26f7d048"
      },
      "execution_count": null,
      "outputs": [
        {
          "output_type": "stream",
          "name": "stdout",
          "text": [
            "A is less than 5\n"
          ]
        }
      ]
    },
    {
      "cell_type": "code",
      "source": [
        "if (k == 12):\n",
        "    print(\"K is equal to 12\")"
      ],
      "metadata": {
        "colab": {
          "base_uri": "https://localhost:8080/"
        },
        "id": "d0RxoneLem1S",
        "outputId": "0b851bf8-5e95-4bac-c64b-a0b7bbcf575a"
      },
      "execution_count": null,
      "outputs": [
        {
          "output_type": "stream",
          "name": "stdout",
          "text": [
            "K is equal to 12\n"
          ]
        }
      ]
    },
    {
      "cell_type": "code",
      "source": [
        "if (a == 3):\n",
        "  print(\"A is equal to 3\")"
      ],
      "metadata": {
        "colab": {
          "base_uri": "https://localhost:8080/"
        },
        "id": "LEVSjA8R__qN",
        "outputId": "5c0715e4-523c-4366-f5ba-fc4c8235c98e"
      },
      "execution_count": null,
      "outputs": [
        {
          "output_type": "stream",
          "name": "stdout",
          "text": [
            "A is less than 5\n"
          ]
        }
      ]
    },
    {
      "cell_type": "code",
      "source": [],
      "metadata": {
        "id": "1_yZClNTekpE"
      },
      "execution_count": null,
      "outputs": []
    },
    {
      "cell_type": "code",
      "source": [
        "if (a >= 3):\n",
        "  print(\"wooooooo!!!\")"
      ],
      "metadata": {
        "colab": {
          "base_uri": "https://localhost:8080/"
        },
        "id": "qCSZTDcdAy_D",
        "outputId": "6afe79f8-c3d7-45d6-bcb6-13057ec7a9e8"
      },
      "execution_count": null,
      "outputs": [
        {
          "output_type": "stream",
          "name": "stdout",
          "text": [
            "wooooooo!!!\n"
          ]
        }
      ]
    },
    {
      "cell_type": "code",
      "source": [],
      "metadata": {
        "id": "BxYl2F78etp5"
      },
      "execution_count": null,
      "outputs": []
    },
    {
      "cell_type": "code",
      "source": [
        "if (a != 5):\n",
        "  print(\"wooooooo!!!\")"
      ],
      "metadata": {
        "colab": {
          "base_uri": "https://localhost:8080/"
        },
        "id": "VB_amlBQBORU",
        "outputId": "be5a9dab-e1d0-466b-b394-d4043a89333a"
      },
      "execution_count": null,
      "outputs": [
        {
          "output_type": "stream",
          "name": "stdout",
          "text": [
            "wooooooo!!!\n"
          ]
        }
      ]
    },
    {
      "cell_type": "code",
      "source": [],
      "metadata": {
        "id": "ilObZZw4euf5"
      },
      "execution_count": null,
      "outputs": []
    },
    {
      "cell_type": "code",
      "source": [
        "i = 6"
      ],
      "metadata": {
        "id": "dffF4Dn0E5vV"
      },
      "execution_count": null,
      "outputs": []
    },
    {
      "cell_type": "code",
      "source": [
        "if (i > 2):\n",
        "  print(\"I is greater than 2\")"
      ],
      "metadata": {
        "colab": {
          "base_uri": "https://localhost:8080/"
        },
        "id": "EDZlXRDFFP2K",
        "outputId": "a167510c-8836-499c-df4a-e1d038e39503"
      },
      "execution_count": null,
      "outputs": [
        {
          "output_type": "stream",
          "name": "stdout",
          "text": [
            "I is greater than 2\n"
          ]
        }
      ]
    }
  ]
}
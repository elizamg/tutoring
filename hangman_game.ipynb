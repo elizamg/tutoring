{
  "cells": [
    {
      "cell_type": "code",
      "execution_count": null,
      "metadata": {
        "colab": {
          "background_save": true,
          "base_uri": "https://localhost:8080/"
        },
        "id": "Vr_EAjg6Wvk_",
        "outputId": "1ba1002a-1c96-4695-d826-92ad4124a273"
      },
      "outputs": [
        {
          "name": "stdout",
          "output_type": "stream",
          "text": [
            "Hello, eliza Time to play hangman!\n",
            "Start guessing...\n",
            "______Wrong\n",
            "You have 9 more guesses\n",
            "______"
          ]
        }
      ],
      "source": [
        "\n",
        "\n",
        "#welcoming the user\n",
        "name = input(\"What is your name? \")\n",
        "\n",
        "print (\"Hello, \" + name, \"Time to play hangman!\")\n",
        "\n",
        "\n",
        "\n",
        "print (\"Start guessing...\")\n",
        "\n",
        "#here we set the secret. You can select any word to play with.\n",
        "word = (\"secret\")\n",
        "\n",
        "#creates an variable with an empty value\n",
        "guesses = ''\n",
        "\n",
        "#determine the number of turns\n",
        "turns = 10\n",
        "\n",
        "# Create a while loop\n",
        "\n",
        "#check if the turns are more than zero\n",
        "while turns > 0:\n",
        "\n",
        "    # make a counter that starts with zero\n",
        "    failed = 0\n",
        "\n",
        "    # for every character in secret_word\n",
        "    for char in word:\n",
        "\n",
        "    # see if the character is in the players guess\n",
        "        if char in guesses:\n",
        "\n",
        "        # print then out the character\n",
        "            print (char,end=\"\"),\n",
        "\n",
        "        else:\n",
        "\n",
        "        # if not found, print a dash\n",
        "            print (\"_\",end=\"\"),\n",
        "\n",
        "        # and increase the failed counter with one\n",
        "            failed += 1\n",
        "\n",
        "    # if failed is equal to zero\n",
        "\n",
        "    # print You Won\n",
        "    if failed == 0:\n",
        "        print (\"You won\")\n",
        "    # exit the script\n",
        "        break\n",
        "    # ask the user go guess a character\n",
        "    guess = input(\"guess a character:\")\n",
        "\n",
        "    # set the players guess to guesses\n",
        "    guesses += guess\n",
        "\n",
        "    # if the guess is not found in the secret word\n",
        "    if guess not in word:\n",
        "\n",
        "     # turns counter decreases with 1 (now 9)\n",
        "        turns -= 1\n",
        "\n",
        "    # print wrong\n",
        "        print (\"Wrong\")\n",
        "\n",
        "    # how many turns are left\n",
        "        print (\"You have\", + turns, 'more guesses' )\n",
        "\n",
        "    # if the turns are equal to zero\n",
        "        if turns == 0:\n",
        "\n",
        "        # print \"You Lose\"\n",
        "            print (\"You Lose\"  )"
      ]
    }
  ],
  "metadata": {
    "colab": {
      "provenance": []
    },
    "kernelspec": {
      "display_name": "Python 3",
      "name": "python3"
    },
    "language_info": {
      "name": "python"
    }
  },
  "nbformat": 4,
  "nbformat_minor": 0
}
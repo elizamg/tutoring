{
  "cells": [
    {
      "cell_type": "markdown",
      "metadata": {
        "id": "814Z_kzXY86o"
      },
      "source": [
        "Paxton's Mad Libs"
      ]
    },
    {
      "cell_type": "code",
      "execution_count": null,
      "metadata": {
        "colab": {
          "base_uri": "https://localhost:8080/"
        },
        "id": "HYLGG_KyY6pg",
        "outputId": "944628b4-a7bd-481c-9513-47c31a9ee754"
      },
      "outputs": [
        {
          "output_type": "stream",
          "name": "stdout",
          "text": [
            "Welcome to Madlibs!\n",
            "Enter an adjective\n",
            "fancy\n",
            "Enter an adjective\n",
            "furry\n",
            "Enter a noun\n",
            "banana\n",
            "Enter a noun\n",
            "house\n",
            "Enter a plural noun\n",
            "boxes\n",
            "Enter a game\n",
            "chess\n",
            "Enter a plural noun\n",
            "pillows\n",
            "Enter a verb ending in ing\n",
            "running\n",
            "Enter a verb ending in ing\n",
            "swimming\n",
            "Enter a plural noun\n",
            "trains\n",
            "Enter a verb ending in ing\n",
            "eating\n",
            "Enter a noun\n",
            "computer\n",
            "Enter a plant\n",
            "sunflower\n",
            "Enter a part of the body\n",
            "finger\n",
            "Enter a place\n",
            "your house\n",
            "Enter a verb ending in ing\n",
            "walking\n",
            "Enter an adjective\n",
            "big\n",
            "Enter a number\n",
            "24\n",
            "Enter a plural noun\n",
            "paintings\n",
            "A vacation is when you take a trip to some fancy place with your furry family. Usually you go to some place that is near a/an banana or up on a/an house. A good vacation place is one where you can ride boxes or play chess or go looking for pillows . I like to spend my time running or  swimming . When parents go on a vacation, they spend their time eating three trains a day, and fathers play golf, and mothers like to go eating . Last summer, my little brother fell in a/an  computer  and got poison  sunflower  all over his finger . My family is going to go to (the)  your house , and I will practice  walking . Parents need vacations more than kids because parents are always very  big  and because they have to work  24 hours every day all year making enough  paintings  to pay for the vacation.\n"
          ]
        }
      ],
      "source": [
        "print(\"Welcome to Madlibs!\")\n",
        "print(\"Enter an adjective\")\n",
        "word1=input() #big\n",
        "\n",
        "print(\"Enter an adjective\")\n",
        "word2=input() #fancy\n",
        "\n",
        "\n",
        "print(\"Enter a noun\")\n",
        "word3=input() #house\n",
        "\n",
        "print(\"Enter a noun\")\n",
        "word4=input() #phone\n",
        "\n",
        "print(\"Enter a plural noun\")\n",
        "word5=input() #lions\n",
        "\n",
        "print(\"Enter a game\")\n",
        "word6=input() #basketball\n",
        "\n",
        "print(\"Enter a plural noun\")\n",
        "word7=input() #trees\n",
        "\n",
        "print(\"Enter a verb ending in ing\")\n",
        "word8=input() #playing\n",
        "\n",
        "print(\"Enter a verb ending in ing\")\n",
        "word9=input() #eating\n",
        "\n",
        "print(\"Enter a plural noun\")\n",
        "word10=input() #crayons\n",
        "\n",
        "print(\"Enter a verb ending in ing\")\n",
        "word11=input() #jumping\n",
        "\n",
        "print(\"Enter a noun\")\n",
        "word12=input() #book\n",
        "\n",
        "print(\"Enter a plant\")\n",
        "word13=input() #rose\n",
        "\n",
        "print(\"Enter a part of the body\")\n",
        "word14=input() #toe\n",
        "\n",
        "print(\"Enter a place\")\n",
        "word15=input() #california\n",
        "\n",
        "print(\"Enter a verb ending in ing\")\n",
        "word16=input() #kicking\n",
        "\n",
        "print(\"Enter an adjective\")\n",
        "word17=input() #silly\n",
        "\n",
        "print(\"Enter a number\")\n",
        "word18=input() #14\n",
        "\n",
        "print(\"Enter a plural noun\")\n",
        "word19=input() #cars\n",
        "print(\"A vacation is when you take a trip to some \" + word1 + \" place with your \" + word2 + \" family. Usually you go to some place that is near a/an \" + word3 + \" or up on a/an \" + word4 + \". A good vacation place is one where you can ride \" + word5 + \" or play \" + word6 + \" or go looking for \" + word7 + \" . I like to spend my time \" + word8 + \" or  \" + word9 + \" . When parents go on a vacation, they spend their time eating three \" + word10 + \" a day, and fathers play golf, and mothers like to go \" + word11 + \" . Last summer, my little brother fell in a/an  \" + word12 + \"  and got poison  \" + word13 + \"  all over his \" + word14 + \" . My family is going to go to (the)  \" + word15 + \" , and I will practice  \" + word16 + \" . Parents need vacations more than kids because parents are always very  \" + word17 + \"  and because they have to work  \" + word18 + \" hours every day all year making enough  \" + word19 + \"  to pay for the vacation.\")"
      ]
    }
  ],
  "metadata": {
    "colab": {
      "provenance": []
    },
    "kernelspec": {
      "display_name": "Python 3",
      "name": "python3"
    },
    "language_info": {
      "name": "python"
    }
  },
  "nbformat": 4,
  "nbformat_minor": 0
}